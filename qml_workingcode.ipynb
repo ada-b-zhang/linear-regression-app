{
 "cells": [
  {
   "cell_type": "code",
   "execution_count": 13,
   "metadata": {},
   "outputs": [],
   "source": [
    "import pennylane as qml\n",
    "from pennylane import numpy as np\n",
    "import matplotlib.pyplot as plt\n",
    "import pandas as pd\n",
    "import sklearn\n",
    "from sklearn.preprocessing import StandardScaler\n",
    "from sklearn.model_selection import train_test_split"
   ]
  },
  {
   "cell_type": "code",
   "execution_count": 14,
   "metadata": {},
   "outputs": [],
   "source": [
    "df = pd.read_csv('Advertising.csv')\n",
    "TV_ads = df['TV'].values\n",
    "Total_sales = df['Sales'].values\n",
    "\n",
    "scaler = StandardScaler()\n",
    "X = scaler.fit_transform(TV_ads.reshape(-1, 1)).flatten()\n",
    "Y = scaler.fit_transform(Total_sales.reshape(-1, 1)).flatten()\n"
   ]
  },
  {
   "cell_type": "markdown",
   "metadata": {},
   "source": [
    "1. Introduction: Exploring Classical vs Quantum Regression\n",
    "\n",
    "We will solve a regression problem using two different methods:\n",
    "\n",
    "\t•\tClassical Linear Regression: A well-established and highly efficient technique for modeling linear relationships.\n",
    "\t•\tQuantum Variational Regressor: A hybrid quantum-classical model that can capture more complex, non-linear relationships.\n",
    "\n",
    "We’ll compare the performance of these models on a synthetic dataset and explore if quantum computing can potentially offer an advantage."
   ]
  },
  {
   "cell_type": "code",
   "execution_count": 15,
   "metadata": {},
   "outputs": [],
   "source": [
    "# define quantum device\n",
    "dev = qml.device('default.qubit', wires=2)\n"
   ]
  },
  {
   "cell_type": "markdown",
   "metadata": {},
   "source": [
    "2. Variational Quantum Circuit\n",
    "\n",
    "A variational quantum circuit (VQC) is a hybrid quantum-classical algorithm used in quantum machine learning tasks such as regression and classification. It works by combining classical optimization methods (e.g., gradient descent) with a parameterized quantum circuit that can learn patterns in data.\n",
    "\n",
    "In this case, the VQC is being used to fit a regression model that predicts values of Total_sales based on TV_ads. The circuit is parametrized by a set of weights (which are optimized) to adjust the transformations applied to the input data (encoded by x), allowing the circuit to fit the data.\n"
   ]
  },
  {
   "cell_type": "code",
   "execution_count": 16,
   "metadata": {},
   "outputs": [],
   "source": [
    "@qml.qnode(dev)\n",
    "def variational_circuit(x, weights):\n",
    "    # Encoding the input\n",
    "    qml.RX(x, wires=0)\n",
    "    qml.RY(x, wires=1)\n",
    "    \n",
    "    # Variational layer 1\n",
    "    qml.RX(weights[0], wires=0)\n",
    "    qml.RY(weights[1], wires=1)\n",
    "    qml.CNOT(wires=[0, 1])\n",
    "    qml.RZ(weights[2], wires=0)\n",
    "    qml.RX(weights[3], wires=1)\n",
    "    \n",
    "    # Variational layer 2\n",
    "    qml.RY(weights[4], wires=0)\n",
    "    qml.RX(weights[5], wires=1)\n",
    "    qml.CNOT(wires=[1, 0])\n",
    "    qml.RZ(weights[6], wires=1)\n",
    "    qml.RY(weights[7], wires=0)\n",
    "    \n",
    "    return qml.expval(qml.PauliZ(0))\n"
   ]
  },
  {
   "cell_type": "markdown",
   "metadata": {},
   "source": [
    "How does it work?\n",
    "\n",
    " Let's say, for example:\n",
    "\n",
    "qml.RX(x, wires=0)\n",
    "qml.RY(x, wires=1)\n",
    "\n",
    "\t•\tThe input data (in this case, TV_ads, after being normalized) is represented by x.\n",
    "\t•\tTo introduce this input into the quantum system, we apply rotation gates (the RX and RY gates) to encode the input data into the state of the qubits.\n",
    "\t•\tRX(x, wires=0) and RY(x, wires=1) rotate the quantum states of the two qubits based on the value of x, putting them in a state that reflects the input.\n",
    "\n",
    "\n",
    "Now, let's expand on the circuit, how would we create more complex circuits?\n",
    "\n",
    "qml.RX(weights[0], wires=0)\n",
    "qml.RY(weights[1], wires=1)\n",
    "qml.CNOT(wires=[0, 1])\n",
    "qml.RZ(weights[2], wires=0)\n",
    "qml.RX(weights[3], wires=1)\n",
    "\n",
    "\t•\tIn this section, we apply a set of parametrized quantum gates. The parameters (or weights) control the amount of rotation applied to the qubits. These weights will be optimized during the training process to minimize the error of the regression model.\n",
    "\t•\tThe CNOT gate introduces entanglement between the qubits, allowing the quantum states of the qubits to become correlated in a way that classical bits can’t. This can help the circuit capture more complex relationships in the data.\n",
    "\n",
    "We created also a second layer. This is a second physical layer in the circuit:\n",
    "\n",
    "qml.RY(weights[4], wires=0)\n",
    "qml.RX(weights[5], wires=1)\n",
    "qml.CNOT(wires=[1, 0])\n",
    "qml.RZ(weights[6], wires=1)\n",
    "qml.RY(weights[7], wires=0)\n",
    "\n",
    "\t•\tThe second variational layer is similar to the first, with additional parametrized rotations and entanglement between qubits. This layer adds more complexity and expressiveness to the quantum circuit, allowing it to model more complex relationships in the data.\n",
    "\n",
    "Note we also have one final line of code, what does it mean?\n",
    "\n",
    "return qml.expval(qml.PauliZ(0))\n",
    "\n",
    "\t•\tAt the end of the quantum computation, we measure the qubits. Specifically, we measure the expectation value (denoted as expval) of the qubits’ states with respect to the PauliZ operator. This value is a number between -1 and 1 that reflects the “state” of the quantum system after applying all the gates.\n",
    "\t•\tThis measured value is interpreted as the model’s prediction for the target variable (Total_sales)."
   ]
  },
  {
   "cell_type": "code",
   "execution_count": 21,
   "metadata": {},
   "outputs": [],
   "source": [
    "'''variational_circuit(x, weights), which is the actual quantum circuit (discussed earlier). \n",
    "The circuit performs calculations based on the input x and the weights and returns a prediction.'''\n",
    "\n",
    "def variational_regressor(x, weights):\n",
    "    return variational_circuit(x, weights)"
   ]
  },
  {
   "cell_type": "markdown",
   "metadata": {},
   "source": [
    "Here, instead of a classical transformation, we pass x and a set of weights (which represent the parameters of the quantum circuit) to a quantum circuit called variational_circuit(). The circuit processes the input and produces a predicted value. Think of this as replacing the function f(x) = Wx + b (for linear regression) with a quantum circuit that applies a series of quantum transformations to x, determined by the weights."
   ]
  },
  {
   "cell_type": "code",
   "execution_count": 22,
   "metadata": {},
   "outputs": [
    {
     "name": "stdout",
     "output_type": "stream",
     "text": [
      "Epoch 10: Train cost = 0.48450335021586566\n",
      "Epoch 20: Train cost = 0.24071432769533524\n",
      "Epoch 30: Train cost = 0.15673548372177912\n",
      "Epoch 40: Train cost = 0.12318816102353684\n",
      "Epoch 50: Train cost = 0.10752473189536282\n",
      "Epoch 60: Train cost = 0.09915564783523342\n",
      "Epoch 70: Train cost = 0.09419314205002417\n",
      "Epoch 80: Train cost = 0.09100934971001456\n",
      "Epoch 90: Train cost = 0.08884275627364378\n",
      "Epoch 100: Train cost = 0.0873028232458341\n",
      "Epoch 110: Train cost = 0.08617269413428343\n",
      "Epoch 120: Train cost = 0.08532337297731198\n",
      "Epoch 130: Train cost = 0.08467354845587774\n",
      "Epoch 140: Train cost = 0.08416947105513961\n",
      "Epoch 150: Train cost = 0.08377421530914321\n"
     ]
    }
   ],
   "source": [
    "'''Let's use MSE to minimize the cost function: '''\n",
    "def cost(weights, X, Y):\n",
    "    predictions = np.array([variational_regressor(x, weights) for x in X])\n",
    "    return np.mean((predictions - Y) ** 2)\n",
    "\n",
    "'''Initialize the weights of the Quantum Circuit randomly'''\n",
    "np.random.seed(42)\n",
    "weights = np.random.randn(8)\n",
    "''' Using Gradient Descent we chose to minimize the cost function by adjusting the weights of the circuit. '''\n",
    "opt = qml.GradientDescentOptimizer(stepsize=0.01)\n",
    "\n",
    "batch_size = 20  # Define the batch size\n",
    "epochs = 150\n",
    "num_batches = len(X) // batch_size\n",
    "for epoch in range(epochs):\n",
    "    for i in range(num_batches):\n",
    "        X_batch = X[i*batch_size:(i+1)*batch_size]\n",
    "        Y_batch = X[i*batch_size:(i+1)*batch_size]\n",
    "        weights = opt.step(lambda w: cost(w, X_batch, Y_batch), weights)\n",
    "    if (epoch + 1) % 10 == 0:\n",
    "        train_cost = cost(weights, X, X)\n",
    "        print(f\"Epoch {epoch + 1}: Train cost = {train_cost}\")"
   ]
  },
  {
   "cell_type": "markdown",
   "metadata": {},
   "source": [
    "How Does This Relate to Classical Regression?\n",
    "\n",
    "If you are familiar with classical regression techniques like linear regression or polynomial regression, you can think of this quantum model in a similar way, but with a different mechanism for learning the mapping from input to output:\n",
    "\n",
    "\t•\tIn classical regression, we model the relationship between X and Y with a linear function like Y = WX + b. The coefficients W and b are adjusted to minimize the prediction error.\n",
    "\t•\tIn this quantum model, we are still trying to learn a function from X to Y, but instead of using a simple linear function, we use a quantum circuit that transforms the input data based on parameterized quantum gates. The parameters (weights) of these gates are optimized using the same principles (gradient descent) that you would use in classical machine learning models.\n",
    "\n",
    "The advantage of using a quantum model here is that it can capture more complex, non-linear relationships in the data, potentially outperforming classical regression models in certain cases."
   ]
  },
  {
   "cell_type": "code",
   "execution_count": 20,
   "metadata": {},
   "outputs": [
    {
     "name": "stdout",
     "output_type": "stream",
     "text": [
      "Test cost: 0.4191457985964804\n"
     ]
    },
    {
     "data": {
      "image/png": "[encoded data removed]",
      "text/plain": [
       "<Figure size 640x480 with 1 Axes>"
      ]
     },
     "metadata": {},
     "output_type": "display_data"
    }
   ],
   "source": [
    "# Predictions on test data\n",
    "test_predictions = np.array([variational_regressor(x, weights) for x in X])\n",
    "test_cost = cost(weights, X, Y)\n",
    "print(f\"Test cost: {test_cost}\")\n",
    "\n",
    "# Plot the results\n",
    "plt.scatter(X, Y, label='TV ads vs Total sales')\n",
    "plt.plot(np.linspace(-2, 2, 100), [variational_regressor(x, weights) for x in np.linspace(-2, 2, 100)], label='Regression Line', color='red')\n",
    "plt.xlabel('TV_ads (normalized)')\n",
    "plt.ylabel('Total_sales (normalized)')\n",
    "plt.legend()\n",
    "plt.show()"
   ]
  },
  {
   "cell_type": "markdown",
   "metadata": {},
   "source": [
    "From the graph we can say:\n",
    "\n",
    "The result you’ve obtained from the variational quantum regressor shows a non-linear regression line (in red) that fits the underlying pattern of the data, which is the relationship between TV_ads and Total_sales. Unlike a typical linear regression, where the regression line would be straight, this quantum model has captured the curve in the data. The red regression line follows the trend more closely, especially where there is curvature in the data, something that a simple linear regression model might miss or poorly approximate.\n",
    "\n",
    "This outcome demonstrates one of the key strengths of quantum circuits in regression: their ability to model non-linear relationships more effectively due to the flexibility in how data can be transformed and represented within a quantum system. In a classical regression model (like linear regression), the model assumes a linear relationship between the input and output, and while you could increase the complexity using polynomial regression or other non-linear transformations, a quantum model can express these relationships inherently with fewer parameters by leveraging quantum gates and entanglement.\n",
    "\n",
    "\n",
    "-----------------"
   ]
  },
  {
   "cell_type": "markdown",
   "metadata": {},
   "source": [
    "Advantages:\n",
    "\n",
    "\t•\tExpressive Power: Quantum circuits can naturally model complex, non-linear relationships. In classical machine learning, you would need more complex models (such as polynomial regression or neural networks) to capture this type of pattern, whereas a quantum circuit can handle these transformations in a lower-dimensional space.\n",
    "\t•\tFewer Parameters: Quantum models may require fewer parameters than some classical non-linear models, which could reduce the risk of overfitting in cases with smaller datasets.\n",
    "\n",
    "Disadvantages:\n",
    "\n",
    "\t•\tTraining Complexity: Training a quantum model is computationally more intensive compared to classical models. Optimizing the parameters of a quantum circuit requires running a hybrid quantum-classical optimization loop, which can be slower and harder to tune than classical algorithms.\n",
    "\t•\tCurrent Limitations: Quantum computers are still in an early stage of development. Simulating quantum circuits on classical computers (as we often do) is resource-intensive, and real quantum hardware has limitations in terms of qubit number and noise.\n",
    "\n",
    "---------------"
   ]
  },
  {
   "cell_type": "markdown",
   "metadata": {},
   "source": [
    "\tHow Does This Help with Regression?\n",
    "    \n",
    "    •\tLearning Complex Patterns: The circuit acts as a flexible model where the gates (and the corresponding weights) can be adjusted to fit complex patterns in the data. The more layers or parameters we add, the more expressive the circuit becomes.\n",
    "\t•\tOptimization: The weights in the circuit are optimized using a classical algorithm (like gradient descent) to minimize the difference between the circuit’s predictions and the true values of Total_sales. This hybrid quantum-classical approach leverages the strengths of both quantum and classical computing.\n",
    "\n",
    "-------------"
   ]
  },
  {
   "cell_type": "markdown",
   "metadata": {},
   "source": [
    "Why Use a Quantum Circuit for Regression?\n",
    "\n",
    "\t•\tExpressive Power: Quantum circuits can represent complex functions in fewer dimensions, capturing relationships in data that may be difficult for classical models to express.\n",
    "\t•\tQuantum Entanglement and Superposition: By entangling qubits, the quantum model can represent complex correlations in the data, potentially giving it an edge over classical models in certain cases (especially with non-linear data).\n",
    "\n",
    "-----------"
   ]
  },
  {
   "cell_type": "markdown",
   "metadata": {},
   "source": [
    "Simplified Analogy:\n",
    "\n",
    "\t•\tImagine you have a simple mathematical model where you rotate numbers in different ways and then combine them. Each rotation is controlled by a parameter that can be adjusted to fit the data better.\n",
    "\t•\tIn this analogy, the quantum circuit’s rotation gates (RX, RY, RZ) are the tools you use to adjust the “fit.” But unlike classical models, these rotations happen in a quantum world where data can be in multiple states at once (superposition) and where qubits can influence each other directly (entanglement).\n",
    "\n",
    "\n",
    "--------------"
   ]
  },
  {
   "cell_type": "markdown",
   "metadata": {},
   "source": [
    "In summary, while the quantum model has provided a more nuanced fit than a simple linear regression model, it comes at the cost of increased complexity and computational overhead. As quantum hardware matures, this kind of approach might become more practical, especially for datasets with highly complex, non-linear relationships. However, for simpler datasets, classical regression methods might still be the more efficient choice."
   ]
  },
  {
   "cell_type": "markdown",
   "metadata": {},
   "source": []
  }
 ],
 "metadata": {
  "kernelspec": {
   "display_name": "base",
   "language": "python",
   "name": "python3"
  },
  "language_info": {
   "codemirror_mode": {
    "name": "ipython",
    "version": 3
   },
   "file_extension": ".py",
   "mimetype": "text/x-python",
   "name": "python",
   "nbconvert_exporter": "python",
   "pygments_lexer": "ipython3",
   "version": "3.11.9"
  }
 },
 "nbformat": 4,
 "nbformat_minor": 2
}
